{
 "cells": [
  {
   "cell_type": "code",
   "execution_count": null,
   "metadata": {},
   "outputs": [],
   "source": [
    "import numpy as np\n",
    "from PIL import Image\n",
    "import tensorflow as tf\n",
    "import pandas\n",
    "from keras.models import Sequential, Model\n",
    "from keras.layers import Dense, Activation, Input\n",
    "from keras import regularizers\n",
    "from keras.callbacks import EarlyStopping, ModelCheckpoint\n",
    "import matplotlib.pyplot as plt\n",
    "import matplotlib.image as mpimg\n",
    "import os"
   ]
  },
  {
   "cell_type": "code",
   "execution_count": null,
   "metadata": {
    "collapsed": true
   },
   "outputs": [],
   "source": [
    "def convert_color_gray(filename,gray_string):\n",
    "    img = Image.open('apple_train/' + filename).convert('LA')\n",
    "    img.save('apple_gray/' + gray_string)\n",
    "    return img.size\n"
   ]
  },
  {
   "cell_type": "code",
   "execution_count": null,
   "metadata": {
    "collapsed": true,
    "scrolled": true
   },
   "outputs": [],
   "source": [
    "def convert_gray_matrix(gray_string):\n",
    "    img = Image.open('apple_gray/'+gray_string).convert('L')\n",
    "    img_as_np = np.asarray(img.getdata()).reshape(img.size[1], img.size[0], -1)\n",
    "    mat = img_as_np\n",
    "    return mat"
   ]
  },
  {
   "cell_type": "code",
   "execution_count": null,
   "metadata": {
    "collapsed": true
   },
   "outputs": [],
   "source": [
    "def write_input_csv(grayMatrix,size,filename):\n",
    "    g=[]\n",
    "    for i in range(9):\n",
    "        g.append(0)\n",
    "    h,w = size\n",
    "    with open(filename, \"a\") as res:\n",
    "        for i in range(h):\n",
    "                for j in range(w):\n",
    "                    if(i - 1 == -1 or j - 1 == -1 or i + 1 == h or j + 1 == w):\n",
    "                        inp_str = \"\"\n",
    "                        for k in range(9):\n",
    "                            inp_str += \"0\"+\",\"\n",
    "                        res.write(inp_str[:-1])\n",
    "                        res.write(\"\\n\")\n",
    "                    else:\n",
    "                        g[0] = grayMatrix[i - 1][j - 1]\n",
    "                        g[1] = g2 = grayMatrix[i - 1][j]\n",
    "                        g[2] = grayMatrix[i - 1][j + 1]\n",
    "                        g[3] = g4 = grayMatrix[i][j - 1]\n",
    "                        g[4] = grayMatrix[i][j]\n",
    "                        g[5] = grayMatrix[i][j + 1]\n",
    "                        g[6]= grayMatrix[i + 1][j - 1]\n",
    "                        g[7] = grayMatrix[i + 1][j]\n",
    "                        g[8] = grayMatrix[i + 1][j + 1]\n",
    "                        str = \"\"\n",
    "                        for k in range(9):\n",
    "                            str += np.array2string(g[k][0])+\",\"\n",
    "                        res.write(str[:-1])\n",
    "                        res.write(\"\\n\")\n"
   ]
  },
  {
   "cell_type": "code",
   "execution_count": null,
   "metadata": {
    "collapsed": true
   },
   "outputs": [],
   "source": [
    "def write_ouput_csv(filename):\n",
    "    image = Image.open('apple_train/'+filename)\n",
    "    width,height = image.size\n",
    "    pixelMatrix = np.asarray(list(image.getdata()),dtype='i,i,i')\n",
    "    pixelMatrix =  np.reshape(pixelMatrix,(height*width,1))\n",
    "    h, w = pixelMatrix.shape\n",
    "    with open(\"output_final_apple.csv\", \"a\") as resultsFile:\n",
    "        for i in range(h):\n",
    "            for j in range(w):\n",
    "                out_string = \"\"\n",
    "                for k in range(3):\n",
    "                    out_string = out_string +  np.array2string(pixelMatrix[i][j][k]) +\",\"                    \n",
    "                resultsFile.write(out_string[:-1])\n",
    "                resultsFile.write(\"\\n\")"
   ]
  },
  {
   "cell_type": "markdown",
   "metadata": {},
   "source": [
    "### Generate Dataset"
   ]
  },
  {
   "cell_type": "code",
   "execution_count": null,
   "metadata": {
    "collapsed": true
   },
   "outputs": [],
   "source": [
    "if os.path.isfile('input.csv'):\n",
    "        os.remove('input.csv')\n",
    "\n",
    "if os.path.isfile('output_final_apple.csv'):\n",
    "        os.remove('output_final_apple.csv')\n",
    "        \n",
    "if os.path.isfile('input_test_new.csv'):\n",
    "        os.remove('input_test_new.csv')"
   ]
  },
  {
   "cell_type": "code",
   "execution_count": null,
   "metadata": {
    "collapsed": true
   },
   "outputs": [],
   "source": [
    "for filename in os.listdir('apple_train/'):\n",
    "    gray_string = filename[:-4]+\"_grayscale.png\"\n",
    "    size = convert_color_gray(filename,gray_string)\n",
    "    mat = convert_gray_matrix(gray_string)\n",
    "    write_input_csv(mat,size,'input.csv')\n",
    "    write_ouput_csv(filename)"
   ]
  },
  {
   "cell_type": "code",
   "execution_count": null,
   "metadata": {},
   "outputs": [],
   "source": [
    "file = open(\"input.csv\")\n",
    "numline = len(file.readlines())\n",
    "print (numline)"
   ]
  },
  {
   "cell_type": "markdown",
   "metadata": {},
   "source": [
    "### Load Dataset"
   ]
  },
  {
   "cell_type": "code",
   "execution_count": null,
   "metadata": {
    "collapsed": true
   },
   "outputs": [],
   "source": [
    "dataframe = pandas.read_csv(\"input.csv\",sep=\",\", header=None)\n",
    "dataframe2 = pandas.read_csv(\"output_final_apple.csv\",sep=\",\", header=None)\n",
    "\n",
    "X = dataframe.values\n",
    "Y = dataframe2.values\n",
    "R = dataframe2.values[:,0]\n",
    "G = dataframe2.values[:,1]\n",
    "B = dataframe2.values[:,2]\n"
   ]
  },
  {
   "cell_type": "markdown",
   "metadata": {},
   "source": [
    "### Neural Network Model\n",
    "The Network consists of total 5 layers\n"
   ]
  },
  {
   "cell_type": "code",
   "execution_count": null,
   "metadata": {
    "collapsed": true
   },
   "outputs": [],
   "source": [
    "Input_1= Input(shape=(9, ))\n",
    "\n",
    "x = Dense(9, activation='linear')(Input_1)\n",
    "x = Dense(5, activation='relu')(x)\n",
    "x = Dense(4, activation='linear')(x)\n",
    "x = Dense(5, activation='relu', kernel_regularizer=regularizers.l2(0.01))(x)\n",
    "\n",
    "r = Dense(1,  activation='linear')(x)\n",
    "g = Dense(1,  activation='linear')(x)\n",
    "b = Dense(1,  activation='linear')(x)\n",
    "\n",
    "model = Model(inputs=Input_1, outputs=[r,g,b])\n",
    "model.compile(optimizer = \"rmsprop\", loss = 'mse', metrics = ['accuracy'] )"
   ]
  },
  {
   "cell_type": "markdown",
   "metadata": {},
   "source": [
    "### Training Model \n",
    "Training model using 100 epochs and batch size of 100 and validation data split of 33%"
   ]
  },
  {
   "cell_type": "code",
   "execution_count": null,
   "metadata": {
    "collapsed": true
   },
   "outputs": [],
   "source": [
    "callbacks = [EarlyStopping(monitor='val_loss', patience = 100),\n",
    "             ModelCheckpoint(filepath='best_model.h5', monitor='val_loss', save_best_only=True)]"
   ]
  },
  {
   "cell_type": "code",
   "execution_count": null,
   "metadata": {},
   "outputs": [],
   "source": [
    "history = model.fit(X, [R,G,B], epochs=1000, batch_size = 100, validation_split=0.33,callbacks=callbacks )"
   ]
  },
  {
   "cell_type": "markdown",
   "metadata": {},
   "source": [
    "### Evaluation of model"
   ]
  },
  {
   "cell_type": "code",
   "execution_count": null,
   "metadata": {},
   "outputs": [],
   "source": [
    "model.evaluate(X,[R,G,B])"
   ]
  },
  {
   "cell_type": "markdown",
   "metadata": {},
   "source": [
    "### Testing Model"
   ]
  },
  {
   "cell_type": "code",
   "execution_count": null,
   "metadata": {},
   "outputs": [],
   "source": [
    "img = Image.open('apple_test.jpg').convert('LA')\n",
    "img.save('apple_test_gray.png')\n",
    "img = Image.open('apple_test_gray.png').convert('L')\n",
    "img_as_np = np.asarray(img.getdata()).reshape(img.size[1], img.size[0], -1)\n",
    "mat = img_as_np\n",
    "write_input_csv(mat,img.size,'input_test_new.csv')"
   ]
  },
  {
   "cell_type": "code",
   "execution_count": null,
   "metadata": {
    "collapsed": true
   },
   "outputs": [],
   "source": [
    "dataframe = pandas.read_csv(\"input_test_new.csv\",sep=\",\", header=None)\n",
    "dataframe[:2]\n",
    "pred = model.predict(dataframe)"
   ]
  },
  {
   "cell_type": "markdown",
   "metadata": {},
   "source": [
    "### Testing on apple image"
   ]
  },
  {
   "cell_type": "code",
   "execution_count": null,
   "metadata": {},
   "outputs": [],
   "source": [
    "height = mat.shape[0]\n",
    "with open('neural_color_output_final_apple.csv', \"w\") as res:\n",
    "        for i in range(len(pred[0])):\n",
    "                res.write(np.array2string(pred[0][i][0]) + \",\" +np.array2string(pred[1][i][0]) + \",\" +np.array2string(pred[2][i][0]) + \"\\n\")\n",
    "colors = np.genfromtxt('neural_color_output_final_apple.csv', dtype='i,i,i', delimiter=\",\")\n",
    "colors = np.reshape(colors,(height,height))\n",
    "colorMatrix = np.zeros((height,height,3),'uint8')\n",
    "for i in range(height):\n",
    "    for j in range(height):\n",
    "        colorMatrix[i][j] = tuple((colors[i][j][0],colors[i][j][1],colors[i][j][2]))\n",
    "image = Image.fromarray(colorMatrix)\n",
    "image.save(\"output.jpeg\")\n",
    "img=mpimg.imread(\"apple_test.jpg\")\n",
    "plt.title('Orignal')\n",
    "imgplot = plt.imshow(img)\n",
    "plt.show()\n",
    "img=mpimg.imread(\"output.jpeg\")\n",
    "plt.title('Colorized')\n",
    "imgplot = plt.imshow(img)\n",
    "plt.show()"
   ]
  },
  {
   "cell_type": "code",
   "execution_count": null,
   "metadata": {},
   "outputs": [],
   "source": [
    "model.metrics_names"
   ]
  },
  {
   "cell_type": "code",
   "execution_count": null,
   "metadata": {},
   "outputs": [],
   "source": [
    "plt.plot(history.history['loss'])\n",
    "plt.plot(history.history['val_loss'])\n",
    "plt.title('model loss')\n",
    "plt.ylabel('loss')\n",
    "plt.xlabel('epoch')\n",
    "plt.legend(['train', 'test'], loc='upper left')\n",
    "plt.show()"
   ]
  },
  {
   "cell_type": "code",
   "execution_count": null,
   "metadata": {
    "collapsed": true
   },
   "outputs": [],
   "source": [
    "# img = Image.open('ava_test.jpg').convert('LA')\n",
    "# img.save('ava_test_gray.png')\n",
    "# img = Image.open('ava_test_gray.png').convert('L')\n",
    "# img_as_np = np.asarray(img.getdata()).reshape(img.size[1], img.size[0], -1)\n",
    "# mat = img_as_np\n",
    "# write_input_csv(mat,img.size,'ava_test_new2.csv')\n",
    "# dataframe = pandas.read_csv(\"ava_test_new2.csv\",sep=\",\", header=None)\n",
    "# dataframe[:2]\n",
    "# pred = model.predict(dataframe)\n",
    "# height = mat.shape[0]\n",
    "# with open('neural.csv', \"w\") as res:\n",
    "#         for i in range(len(pred[0])):\n",
    "#                 res.write(np.array2string(pred[0][i][0]) + \",\" +np.array2string(pred[1][i][0]) + \",\" +np.array2string(pred[2][i][0]) + \"\\n\")\n",
    "# colors = np.genfromtxt('neural.csv', dtype='i,i,i', delimiter=\",\")\n",
    "# colors = np.reshape(colors,(height,height))\n",
    "# colorMatrix = np.zeros((height,height,3),'uint8')\n",
    "# for i in range(height):\n",
    "#     for j in range(height):\n",
    "#         colorMatrix[i][j] = tuple((colors[i][j][0],colors[i][j][1],colors[i][j][2]))\n",
    "# image = Image.fromarray(colorMatrix)\n",
    "# image.save(\"your_file_final_ava.jpeg\")\n",
    "# img=mpimg.imread(\"ava_test.jpg\")\n",
    "# plt.title('Orignal')\n",
    "# imgplot = plt.imshow(img)\n",
    "# plt.show()\n",
    "# img=mpimg.imread(\"your_file_final_ava.jpeg\")\n",
    "# plt.title('Colorized')\n",
    "# imgplot = plt.imshow(img)\n",
    "# plt.show()"
   ]
  },
  {
   "cell_type": "code",
   "execution_count": null,
   "metadata": {
    "collapsed": true
   },
   "outputs": [],
   "source": []
  }
 ],
 "metadata": {
  "kernelspec": {
   "display_name": "Python 3",
   "language": "python",
   "name": "python3"
  },
  "language_info": {
   "codemirror_mode": {
    "name": "ipython",
    "version": 3
   },
   "file_extension": ".py",
   "mimetype": "text/x-python",
   "name": "python",
   "nbconvert_exporter": "python",
   "pygments_lexer": "ipython3",
   "version": "3.6.2"
  }
 },
 "nbformat": 4,
 "nbformat_minor": 2
}
